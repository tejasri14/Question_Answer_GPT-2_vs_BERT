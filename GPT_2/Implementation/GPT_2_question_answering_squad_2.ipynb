{
 "cells": [
  {
   "cell_type": "markdown",
   "id": "359f2410",
   "metadata": {},
   "source": [
    "## GPT-2 Question Answering model "
   ]
  },
  {
   "cell_type": "markdown",
   "id": "a53e82a8",
   "metadata": {},
   "source": [
    "This GPT-2 model has been pre-trained on the SQUAD-2 dataset. "
   ]
  },
  {
   "cell_type": "markdown",
   "id": "e009b28f",
   "metadata": {},
   "source": [
    "### Loading the pre-trained model"
   ]
  },
  {
   "cell_type": "code",
   "execution_count": 1,
   "id": "405ede8c",
   "metadata": {},
   "outputs": [],
   "source": [
    "from transformers import GPT2Tokenizer, GPT2LMHeadModel"
   ]
  },
  {
   "cell_type": "code",
   "execution_count": 2,
   "id": "906aab29",
   "metadata": {},
   "outputs": [],
   "source": [
    "tokenizer = GPT2Tokenizer.from_pretrained(\"gpt2\")"
   ]
  },
  {
   "cell_type": "markdown",
   "id": "74861b08",
   "metadata": {},
   "source": [
    "### Loading the tokenizer"
   ]
  },
  {
   "cell_type": "code",
   "execution_count": 3,
   "id": "b46e8eeb",
   "metadata": {},
   "outputs": [],
   "source": [
    "model = GPT2LMHeadModel.from_pretrained(\"danyaljj/gpt2_question_answering_squad2\")"
   ]
  },
  {
   "cell_type": "markdown",
   "id": "d775d332",
   "metadata": {},
   "source": [
    "### Sample Input to pre-trained model:"
   ]
  },
  {
   "cell_type": "code",
   "execution_count": 4,
   "id": "c290e3e4",
   "metadata": {},
   "outputs": [
    {
     "name": "stderr",
     "output_type": "stream",
     "text": [
      "Setting `pad_token_id` to `eos_token_id`:50256 for open-end generation.\n"
     ]
    },
    {
     "name": "stdout",
     "output_type": "stream",
     "text": [
      "Generated: There are two oranges on the counter. Q: Where are the oranges? A: the counter\n"
     ]
    }
   ],
   "source": [
    "input_ids = tokenizer.encode(\"There are two oranges on the counter. Q: Where are the oranges? A:\", return_tensors=\"pt\")\n",
    "outputs = model.generate(input_ids)\n",
    "print(\"Generated:\", tokenizer.decode(outputs[0], skip_special_tokens=True))"
   ]
  },
  {
   "cell_type": "markdown",
   "id": "6b256cff",
   "metadata": {},
   "source": [
    "### User Input to pre-trained model:"
   ]
  },
  {
   "cell_type": "code",
   "execution_count": 5,
   "id": "c6896d7e",
   "metadata": {},
   "outputs": [
    {
     "name": "stdout",
     "output_type": "stream",
     "text": [
      "Enter Context:Antibody can identify and neutralize foreign objects such as bacteria and viruses\n",
      "Enter Question:What can an antibody do?\n"
     ]
    }
   ],
   "source": [
    "context = input('Enter Context:')\n",
    "question = input('Enter Question:')"
   ]
  },
  {
   "cell_type": "code",
   "execution_count": 6,
   "id": "f33ae961",
   "metadata": {},
   "outputs": [
    {
     "name": "stderr",
     "output_type": "stream",
     "text": [
      "Setting `pad_token_id` to `eos_token_id`:50256 for open-end generation.\n",
      "Input length of input_ids is 25, but ``max_length`` is set to 20. This can lead to unexpected behavior. You should consider increasing ``config.max_length`` or ``max_length``.\n"
     ]
    },
    {
     "name": "stdout",
     "output_type": "stream",
     "text": [
      "Generated: Antibody can identify and neutralize foreign objects such as bacteria and viruses Q: What can an antibody do? A: identify\n"
     ]
    }
   ],
   "source": [
    "input_ids = tokenizer.encode(context + \" Q: \" + question+\" A:\", return_tensors=\"pt\")\n",
    "outputs = model.generate(input_ids)\n",
    "print(\"Generated:\", tokenizer.decode(outputs[0], skip_special_tokens=True))"
   ]
  },
  {
   "cell_type": "code",
   "execution_count": null,
   "id": "aa7ea6c0",
   "metadata": {},
   "outputs": [],
   "source": []
  }
 ],
 "metadata": {
  "kernelspec": {
   "display_name": "Python 3",
   "language": "python",
   "name": "python3"
  },
  "language_info": {
   "codemirror_mode": {
    "name": "ipython",
    "version": 3
   },
   "file_extension": ".py",
   "mimetype": "text/x-python",
   "name": "python",
   "nbconvert_exporter": "python",
   "pygments_lexer": "ipython3",
   "version": "3.7.12"
  }
 },
 "nbformat": 4,
 "nbformat_minor": 5
}
