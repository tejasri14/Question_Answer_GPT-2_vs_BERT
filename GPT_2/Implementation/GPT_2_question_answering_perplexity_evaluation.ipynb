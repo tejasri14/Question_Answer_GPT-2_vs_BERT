{
 "cells": [
  {
   "cell_type": "markdown",
   "id": "ce890711",
   "metadata": {},
   "source": [
    "## GPT-2 Question Answering Model Perplexity Evaluation"
   ]
  },
  {
   "cell_type": "code",
   "execution_count": null,
   "id": "405ede8c",
   "metadata": {},
   "outputs": [],
   "source": [
    "from transformers import GPT2Tokenizer, GPT2LMHeadModel\n",
    "import pandas as pd\n",
    "import math\n",
    "import torch"
   ]
  },
  {
   "cell_type": "markdown",
   "id": "1c97c45a",
   "metadata": {},
   "source": [
    "### Loading the pre-trained model\n"
   ]
  },
  {
   "cell_type": "code",
   "execution_count": null,
   "id": "906aab29",
   "metadata": {},
   "outputs": [],
   "source": [
    "model = GPT2LMHeadModel.from_pretrained(\"danyaljj/gpt2_question_answering_squad2\")"
   ]
  },
  {
   "cell_type": "markdown",
   "id": "85f79914",
   "metadata": {},
   "source": [
    "### Loading the tokenizer"
   ]
  },
  {
   "cell_type": "code",
   "execution_count": null,
   "id": "2dafac08",
   "metadata": {},
   "outputs": [],
   "source": [
    "tokenizer = GPT2Tokenizer.from_pretrained(\"gpt2\")"
   ]
  },
  {
   "cell_type": "markdown",
   "id": "fc20bb44",
   "metadata": {},
   "source": [
    "### Loading CoQA dataset for evaluation"
   ]
  },
  {
   "cell_type": "code",
   "execution_count": null,
   "id": "e35f5622",
   "metadata": {},
   "outputs": [],
   "source": [
    "df = pd.read_csv('CoQA_data.csv')"
   ]
  },
  {
   "cell_type": "markdown",
   "id": "863ed74f",
   "metadata": {},
   "source": [
    "### Perplexity"
   ]
  },
  {
   "cell_type": "code",
   "execution_count": null,
   "id": "c799346e",
   "metadata": {},
   "outputs": [],
   "source": [
    "text_list = list(df['text'])"
   ]
  },
  {
   "cell_type": "code",
   "execution_count": null,
   "id": "aa7ea6c0",
   "metadata": {},
   "outputs": [],
   "source": [
    "def score(sentence):\n",
    "    tokenize_input = tokenizer.tokenize(sentence)\n",
    "    tensor_input = torch.tensor([tokenizer.convert_tokens_to_ids(tokenize_input)])\n",
    "    loss=model(tensor_input, lm_labels=tensor_input)\n",
    "    return math.exp(loss)\n",
    "\n",
    "\n",
    "score_list = [score(i) for i in text_list[:200]]"
   ]
  },
  {
   "cell_type": "code",
   "execution_count": null,
   "id": "10461aa4",
   "metadata": {},
   "outputs": [],
   "source": [
    "sum(score_list)/len(score_list)"
   ]
  }
 ],
 "metadata": {
  "kernelspec": {
   "display_name": "Python 3",
   "language": "python",
   "name": "python3"
  },
  "language_info": {
   "codemirror_mode": {
    "name": "ipython",
    "version": 3
   },
   "file_extension": ".py",
   "mimetype": "text/x-python",
   "name": "python",
   "nbconvert_exporter": "python",
   "pygments_lexer": "ipython3",
   "version": "3.7.12"
  }
 },
 "nbformat": 4,
 "nbformat_minor": 5
}
