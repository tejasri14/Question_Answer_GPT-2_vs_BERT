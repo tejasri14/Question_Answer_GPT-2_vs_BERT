{
 "cells": [
  {
   "cell_type": "code",
   "execution_count": 87,
   "id": "1ff825da",
   "metadata": {
    "scrolled": true
   },
   "outputs": [
    {
     "name": "stdout",
     "output_type": "stream",
     "text": [
      "Looking in links: https://download.pytorch.org/whl/torch_stable.html\n",
      "Requirement already satisfied: torch in ./opt/anaconda3/lib/python3.8/site-packages (1.9.1)\n",
      "Requirement already satisfied: torchvision in ./opt/anaconda3/lib/python3.8/site-packages (0.10.1)\n",
      "Requirement already satisfied: typing-extensions in ./opt/anaconda3/lib/python3.8/site-packages (from torch) (3.7.4.3)\n",
      "Requirement already satisfied: numpy in ./opt/anaconda3/lib/python3.8/site-packages (from torchvision) (1.21.0)\n",
      "Requirement already satisfied: pillow>=5.3.0 in ./opt/anaconda3/lib/python3.8/site-packages (from torchvision) (8.2.0)\n",
      "Requirement already satisfied: transformers in ./opt/anaconda3/lib/python3.8/site-packages (4.13.0)\n",
      "Requirement already satisfied: numpy>=1.17 in ./opt/anaconda3/lib/python3.8/site-packages (from transformers) (1.21.0)\n",
      "Requirement already satisfied: filelock in ./opt/anaconda3/lib/python3.8/site-packages (from transformers) (3.0.12)\n",
      "Requirement already satisfied: tokenizers<0.11,>=0.10.1 in ./opt/anaconda3/lib/python3.8/site-packages (from transformers) (0.10.3)\n",
      "Requirement already satisfied: huggingface-hub<1.0,>=0.1.0 in ./opt/anaconda3/lib/python3.8/site-packages (from transformers) (0.2.1)\n",
      "Requirement already satisfied: pyyaml>=5.1 in ./opt/anaconda3/lib/python3.8/site-packages (from transformers) (5.4.1)\n",
      "Requirement already satisfied: packaging>=20.0 in ./opt/anaconda3/lib/python3.8/site-packages (from transformers) (20.9)\n",
      "Requirement already satisfied: regex!=2019.12.17 in ./opt/anaconda3/lib/python3.8/site-packages (from transformers) (2021.4.4)\n",
      "Requirement already satisfied: tqdm>=4.27 in ./opt/anaconda3/lib/python3.8/site-packages (from transformers) (4.59.0)\n",
      "Requirement already satisfied: requests in ./opt/anaconda3/lib/python3.8/site-packages (from transformers) (2.25.1)\n",
      "Requirement already satisfied: sacremoses in ./opt/anaconda3/lib/python3.8/site-packages (from transformers) (0.0.46)\n",
      "Requirement already satisfied: typing-extensions>=3.7.4.3 in ./opt/anaconda3/lib/python3.8/site-packages (from huggingface-hub<1.0,>=0.1.0->transformers) (3.7.4.3)\n",
      "Requirement already satisfied: pyparsing>=2.0.2 in ./opt/anaconda3/lib/python3.8/site-packages (from packaging>=20.0->transformers) (2.4.7)\n",
      "Requirement already satisfied: chardet<5,>=3.0.2 in ./opt/anaconda3/lib/python3.8/site-packages (from requests->transformers) (4.0.0)\n",
      "Requirement already satisfied: urllib3<1.27,>=1.21.1 in ./opt/anaconda3/lib/python3.8/site-packages (from requests->transformers) (1.26.6)\n",
      "Requirement already satisfied: idna<3,>=2.5 in ./opt/anaconda3/lib/python3.8/site-packages (from requests->transformers) (2.10)\n",
      "Requirement already satisfied: certifi>=2017.4.17 in ./opt/anaconda3/lib/python3.8/site-packages (from requests->transformers) (2021.5.30)\n",
      "Requirement already satisfied: six in ./opt/anaconda3/lib/python3.8/site-packages (from sacremoses->transformers) (1.16.0)\n",
      "Requirement already satisfied: joblib in ./opt/anaconda3/lib/python3.8/site-packages (from sacremoses->transformers) (1.0.1)\n",
      "Requirement already satisfied: click in ./opt/anaconda3/lib/python3.8/site-packages (from sacremoses->transformers) (7.1.2)\n"
     ]
    }
   ],
   "source": [
    "!pip install torch  torchvision -f https://download.pytorch.org/whl/torch_stable.html\n",
    "!pip install transformers"
   ]
  },
  {
   "cell_type": "code",
   "execution_count": 99,
   "id": "8fdab827",
   "metadata": {
    "scrolled": true
   },
   "outputs": [
    {
     "name": "stdout",
     "output_type": "stream",
     "text": [
      "--2021-12-14 19:20:12--  https://rajpurkar.github.io/SQuAD-explorer/dataset/dev-v2.0.json\n",
      "Resolving rajpurkar.github.io (rajpurkar.github.io)... 185.199.111.153, 185.199.110.153, 185.199.108.153, ...\n",
      "Connecting to rajpurkar.github.io (rajpurkar.github.io)|185.199.111.153|:443... connected.\n",
      "HTTP request sent, awaiting response... 200 OK\n",
      "Length: 4370528 (4.2M) [application/json]\n",
      "Saving to: ‘data/squad/dev-v2.0.json’\n",
      "\n",
      "dev-v2.0.json       100%[===================>]   4.17M  8.30MB/s    in 0.5s    \n",
      "\n",
      "2021-12-14 19:20:13 (8.30 MB/s) - ‘data/squad/dev-v2.0.json’ saved [4370528/4370528]\n",
      "\n"
     ]
    }
   ],
   "source": [
    "!wget -P data/squad/ https://rajpurkar.github.io/SQuAD-explorer/dataset/dev-v2.0.json"
   ]
  },
  {
   "cell_type": "code",
   "execution_count": 98,
   "id": "06cb5b40",
   "metadata": {},
   "outputs": [
    {
     "name": "stdout",
     "output_type": "stream",
     "text": [
      "Requirement already satisfied: brew in ./opt/anaconda3/lib/python3.8/site-packages (0.1.3)\n",
      "Updating Homebrew...\n",
      "\u001b[34m==>\u001b[0m \u001b[1mDownloading https://ghcr.io/v2/homebrew/portable-ruby/portable-ruby/blobs/sha256:0cb1cc7af109437fe0e020c9f3b7b95c3c709b140bde9f991ad2c1433496dd42\u001b[0m\n",
      "######################################################################### 100.0%                                                    27.5%######################      94.8%\n",
      "\u001b[34m==>\u001b[0m \u001b[1mPouring portable-ruby-2.6.8.yosemite.bottle.tar.gz\u001b[0m\n",
      "\u001b[34m==>\u001b[0m \u001b[1mHomebrew is run entirely by unpaid volunteers. Please consider donating:\u001b[0m\n",
      "  \u001b[4mhttps://github.com/Homebrew/brew#donations\u001b[24m\n",
      "\u001b[34m==>\u001b[0m \u001b[1mAuto-updated Homebrew!\u001b[0m\n",
      "Updated 1 tap (homebrew/core).\n",
      "\u001b[34m==>\u001b[0m \u001b[1mNew Formulae\u001b[0m\n",
      "abi-compliance-checker     goplus                     pocsuite3\n",
      "abi-dumper                 goproxy                    qwt-qt5\n",
      "all-repos                  gotify                     rbw\n",
      "atmos                      iproute2                   regula\n",
      "biber                      iputils                    rizin\n",
      "brigade-cli                isa-l                      rpki-client\n",
      "btop                       java-service-wrapper       rustfmt\n",
      "cassandra@3                jellyfish                  salt-lint\n",
      "cava                       jsonschema                 sevenzip\n",
      "cgif                       kube-score                 sextractor\n",
      "charmcraft                 kubeval                    sigrok-cli\n",
      "clang-format@11            ld-find-code-refs          smug\n",
      "cloudiscovery              libsigrok                  spdx-sbom-generator\n",
      "colima                     libsigrokdecode            statix\n",
      "copier                     libsoup@2                  swiftplantuml\n",
      "corepack                   libxls                     symengine\n",
      "cpufetch                   liqoctl                    tailscale\n",
      "cri-tools                  llvm@12                    terraform-rover\n",
      "datafusion                 lua-language-server        tfk8s\n",
      "djhtml                     luau                       tfmigrate\n",
      "dynomite                   ly                         tfproviderlint\n",
      "fastfec                    mdzk                       tfupdate\n",
      "fastp                      mist                       tilt\n",
      "feroxbuster                mmtabbarview               toml11\n",
      "fheroes2                   mt32emu                    tsduck\n",
      "fisher                     ncnn                       twty\n",
      "fnlfmt                     node@16                    urlwatch\n",
      "g2o                        nsh                        uuu\n",
      "git-branchless             payload-dumper-go          vtable-dumper\n",
      "git-svn                    pdf2djvu                   west\n",
      "gitlab-ci-local            php@8.0                    youtubeuploader\n",
      "go-critic                  pip-audit\n",
      "goawk                      pip-tools\n",
      "\u001b[34m==>\u001b[0m \u001b[1mUpdated Formulae\u001b[0m\n",
      "Updated 4936 formulae.\n",
      "\u001b[34m==>\u001b[0m \u001b[1mRenamed Formulae\u001b[0m\n",
      "rt-audio -> rtaudio\n",
      "selenium-server-standalone -> selenium-server\n",
      "\u001b[34m==>\u001b[0m \u001b[1mDeleted Formulae\u001b[0m\n",
      "amap                flasm               libmill             redsocks\n",
      "ape                 fondu               libopendkim         sdhash\n",
      "balance             gconf               libpuzzle           shorten\n",
      "bbcolors            gcore               libvbucket          soundpipe\n",
      "colorsvn            gf-complete         m2c                 srmio\n",
      "contacts            git-sh              magnetix            svdlibc\n",
      "csv-fix             henplus             makepp              swiftplate\n",
      "dnsrend             httptunnel          marst               torrentcheck\n",
      "drip                jerasure            mboxgrep            udns\n",
      "dshb                kakasi              md                  whitedb\n",
      "eject               l-smash             namazu              xidel\n",
      "es                  libbind             pandoc-citeproc     xtail\n",
      "eventlog            liberasurecode      postmark            zdelta\n",
      "\n",
      "\u001b[34m==>\u001b[0m \u001b[1mDownloading https://ghcr.io/v2/homebrew/core/gettext/manifests/0.21\u001b[0m\n",
      "######################################################################## 100.0%\n",
      "\u001b[34m==>\u001b[0m \u001b[1mDownloading https://ghcr.io/v2/homebrew/core/gettext/blobs/sha256:a025e143fe\u001b[0m\n",
      "\u001b[34m==>\u001b[0m \u001b[1mDownloading from https://pkg-containers.githubusercontent.com/ghcr1/blobs/sh\u001b[0m\n",
      "######################################################################## 100.0%\n",
      "\u001b[34m==>\u001b[0m \u001b[1mDownloading https://ghcr.io/v2/homebrew/core/libunistring/manifests/0.9.10\u001b[0m\n",
      "######################################################################## 100.0%\n",
      "\u001b[34m==>\u001b[0m \u001b[1mDownloading https://ghcr.io/v2/homebrew/core/libunistring/blobs/sha256:5d336\u001b[0m\n",
      "\u001b[34m==>\u001b[0m \u001b[1mDownloading from https://pkg-containers.githubusercontent.com/ghcr1/blobs/sh\u001b[0m\n",
      "######################################################################## 100.0%\n",
      "\u001b[34m==>\u001b[0m \u001b[1mDownloading https://ghcr.io/v2/homebrew/core/libidn2/manifests/2.3.2\u001b[0m\n",
      "######################################################################## 100.0%\n",
      "\u001b[34m==>\u001b[0m \u001b[1mDownloading https://ghcr.io/v2/homebrew/core/libidn2/blobs/sha256:d21350f576\u001b[0m\n",
      "\u001b[34m==>\u001b[0m \u001b[1mDownloading from https://pkg-containers.githubusercontent.com/ghcr1/blobs/sh\u001b[0m\n",
      "######################################################################## 100.0%\n",
      "\u001b[34m==>\u001b[0m \u001b[1mDownloading https://ghcr.io/v2/homebrew/core/ca-certificates/manifests/2021-\u001b[0m\n",
      "######################################################################## 100.0%\n",
      "\u001b[34m==>\u001b[0m \u001b[1mDownloading https://ghcr.io/v2/homebrew/core/ca-certificates/blobs/sha256:1b\u001b[0m\n",
      "\u001b[34m==>\u001b[0m \u001b[1mDownloading from https://pkg-containers.githubusercontent.com/ghcr1/blobs/sh\u001b[0m\n",
      "######################################################################## 100.0%\n",
      "\u001b[34m==>\u001b[0m \u001b[1mDownloading https://ghcr.io/v2/homebrew/core/openssl/1.1/manifests/1.1.1l_1\u001b[0m\n",
      "######################################################################## 100.0%\n",
      "\u001b[34m==>\u001b[0m \u001b[1mDownloading https://ghcr.io/v2/homebrew/core/openssl/1.1/blobs/sha256:64d4d8\u001b[0m\n",
      "\u001b[34m==>\u001b[0m \u001b[1mDownloading from https://pkg-containers.githubusercontent.com/ghcr1/blobs/sh\u001b[0m\n",
      "######################################################################## 100.0%\n",
      "\u001b[34m==>\u001b[0m \u001b[1mDownloading https://ghcr.io/v2/homebrew/core/wget/manifests/1.21.2\u001b[0m\n",
      "######################################################################## 100.0%\n",
      "\u001b[34m==>\u001b[0m \u001b[1mDownloading https://ghcr.io/v2/homebrew/core/wget/blobs/sha256:7a8e6512e0890\u001b[0m\n",
      "\u001b[34m==>\u001b[0m \u001b[1mDownloading from https://pkg-containers.githubusercontent.com/ghcr1/blobs/sh\u001b[0m\n",
      "######################################################################## 100.0%\n",
      "\u001b[32m==>\u001b[0m \u001b[1mInstalling dependencies for wget: \u001b[32mgettext\u001b[39m, \u001b[32mlibunistring\u001b[39m, \u001b[32mlibidn2\u001b[39m, \u001b[32mca-certificates\u001b[39m and \u001b[32mopenssl@1.1\u001b[39m\u001b[0m\n",
      "\u001b[32m==>\u001b[0m \u001b[1mInstalling wget dependency: \u001b[32mgettext\u001b[39m\u001b[0m\n",
      "\u001b[34m==>\u001b[0m \u001b[1mPouring gettext--0.21.big_sur.bottle.tar.gz\u001b[0m\n",
      "🍺  /usr/local/Cellar/gettext/0.21: 1,953 files, 19.8MB\n",
      "\u001b[32m==>\u001b[0m \u001b[1mInstalling wget dependency: \u001b[32mlibunistring\u001b[39m\u001b[0m\n",
      "\u001b[34m==>\u001b[0m \u001b[1mPouring libunistring--0.9.10.big_sur.bottle.tar.gz\u001b[0m\n",
      "🍺  /usr/local/Cellar/libunistring/0.9.10: 55 files, 4.5MB\n",
      "\u001b[32m==>\u001b[0m \u001b[1mInstalling wget dependency: \u001b[32mlibidn2\u001b[39m\u001b[0m\n",
      "\u001b[34m==>\u001b[0m \u001b[1mPouring libidn2--2.3.2.big_sur.bottle.tar.gz\u001b[0m\n",
      "🍺  /usr/local/Cellar/libidn2/2.3.2: 77 files, 846.8KB\n",
      "\u001b[32m==>\u001b[0m \u001b[1mInstalling wget dependency: \u001b[32mca-certificates\u001b[39m\u001b[0m\n",
      "\u001b[34m==>\u001b[0m \u001b[1mPouring ca-certificates--2021-10-26.all.bottle.tar.gz\u001b[0m\n",
      "\u001b[34m==>\u001b[0m \u001b[1mRegenerating CA certificate bundle from keychain, this may take a while...\u001b[0m\n",
      "🍺  /usr/local/Cellar/ca-certificates/2021-10-26: 3 files, 208.5KB\n",
      "\u001b[32m==>\u001b[0m \u001b[1mInstalling wget dependency: \u001b[32mopenssl@1.1\u001b[39m\u001b[0m\n",
      "\u001b[34m==>\u001b[0m \u001b[1mPouring openssl@1.1--1.1.1l_1.big_sur.bottle.tar.gz\u001b[0m\n",
      "🍺  /usr/local/Cellar/openssl@1.1/1.1.1l_1: 8,073 files, 18.5MB\n",
      "\u001b[32m==>\u001b[0m \u001b[1mInstalling \u001b[32mwget\u001b[39m\u001b[0m\n",
      "\u001b[34m==>\u001b[0m \u001b[1mPouring wget--1.21.2.big_sur.bottle.tar.gz\u001b[0m\n",
      "🍺  /usr/local/Cellar/wget/1.21.2: 89 files, 4.2MB\n",
      "\u001b[34m==>\u001b[0m \u001b[1m`brew cleanup` has not been run in the last 30 days, running now...\u001b[0m\n",
      "Disable this behaviour by setting HOMEBREW_NO_INSTALL_CLEANUP.\n",
      "Hide these hints with HOMEBREW_NO_ENV_HINTS (see `man brew`).\n",
      "Pruned 0 symbolic links and 7 directories from /usr/local\r\n"
     ]
    }
   ],
   "source": [
    "!pip install brew\n",
    "!brew install wget"
   ]
  },
  {
   "cell_type": "code",
   "execution_count": 100,
   "id": "1079f355",
   "metadata": {},
   "outputs": [],
   "source": [
    "from transformers.data.processors.squad import SquadV2Processor"
   ]
  },
  {
   "cell_type": "code",
   "execution_count": 101,
   "id": "ea1a4ac5",
   "metadata": {
    "scrolled": true
   },
   "outputs": [
    {
     "name": "stderr",
     "output_type": "stream",
     "text": [
      "100%|██████████| 35/35 [00:04<00:00,  8.53it/s]"
     ]
    },
    {
     "name": "stdout",
     "output_type": "stream",
     "text": [
      "11873\n"
     ]
    },
    {
     "name": "stderr",
     "output_type": "stream",
     "text": [
      "\n"
     ]
    }
   ],
   "source": [
    "processor = SquadV2Processor()\n",
    "examples = processor.get_dev_examples(\"./data/squad/\", filename=\"dev-v2.0.json\")\n",
    "print(len(examples))"
   ]
  },
  {
   "cell_type": "code",
   "execution_count": 102,
   "id": "18909071",
   "metadata": {},
   "outputs": [],
   "source": [
    "qid_to_example_index = {example.qas_id: i for i, example in enumerate(examples)}\n",
    "qid_to_has_answer = {example.qas_id: bool(example.answers) for example in examples}\n",
    "answer_qids = [qas_id for qas_id, has_answer in qid_to_has_answer.items() if has_answer]\n",
    "no_answer_qids = [qas_id for qas_id, has_answer in qid_to_has_answer.items() if not has_answer]"
   ]
  },
  {
   "cell_type": "code",
   "execution_count": 103,
   "id": "4410031e",
   "metadata": {},
   "outputs": [],
   "source": [
    "#to display the context, question, and answer\n",
    "\n",
    "def display_example(qid):    \n",
    "    from pprint import pprint\n",
    "\n",
    "    idx = qid_to_example_index[qid]\n",
    "    q = examples[idx].question_text\n",
    "    c = examples[idx].context_text\n",
    "    a = [answer['text'] for answer in examples[idx].answers]\n",
    "    \n",
    "    print(f'Example {idx} of {len(examples)}\\n---------------------')\n",
    "    print(f\"Q: {q}\\n\")\n",
    "    print(\"Context:\")\n",
    "    pprint(c)\n",
    "    print(f\"\\nTrue Answers:\\n{a}\")"
   ]
  },
  {
   "cell_type": "code",
   "execution_count": 104,
   "id": "473a1199",
   "metadata": {},
   "outputs": [
    {
     "name": "stdout",
     "output_type": "stream",
     "text": [
      "Example 2548 of 11873\n",
      "---------------------\n",
      "Q: Where on Earth is free oxygen found?\n",
      "\n",
      "Context:\n",
      "(\"Free oxygen also occurs in solution in the world's water bodies. The \"\n",
      " 'increased solubility of O\\n'\n",
      " '2 at lower temperatures (see Physical properties) has important implications '\n",
      " 'for ocean life, as polar oceans support a much higher density of life due to '\n",
      " 'their higher oxygen content. Water polluted with plant nutrients such as '\n",
      " 'nitrates or phosphates may stimulate growth of algae by a process called '\n",
      " 'eutrophication and the decay of these organisms and other biomaterials may '\n",
      " 'reduce amounts of O\\n'\n",
      " '2 in eutrophic water bodies. Scientists assess this aspect of water quality '\n",
      " \"by measuring the water's biochemical oxygen demand, or the amount of O\\n\"\n",
      " '2 needed to restore it to a normal concentration.')\n",
      "\n",
      "True Answers:\n",
      "['water', \"in solution in the world's water bodies\", \"the world's water bodies\"]\n"
     ]
    }
   ],
   "source": [
    "display_example(answer_qids[1300])"
   ]
  },
  {
   "cell_type": "code",
   "execution_count": 106,
   "id": "1d7ad9bc",
   "metadata": {},
   "outputs": [],
   "source": [
    "#model and transformer from HuggingFace\n",
    "from transformers import AutoTokenizer, AutoModelForQuestionAnswering\n",
    "\n",
    "tokenizer = AutoTokenizer.from_pretrained(\"deepset/bert-large-uncased-whole-word-masking-squad2\")\n",
    "model = AutoModelForQuestionAnswering.from_pretrained(\"deepset/bert-large-uncased-whole-word-masking-squad2\")"
   ]
  },
  {
   "cell_type": "code",
   "execution_count": 107,
   "id": "5d1c806e",
   "metadata": {},
   "outputs": [],
   "source": [
    "#get answer from the model\n",
    "\n",
    "def get_prediction(qid):\n",
    "    # given a question id (qas_id or qid), load the example, get the model outputs and generate an answer\n",
    "    question = examples[qid_to_example_index[qid]].question_text\n",
    "    context = examples[qid_to_example_index[qid]].context_text\n",
    "\n",
    "    inputs = tokenizer.encode_plus(question, context, return_tensors='pt')\n",
    "\n",
    "    outputs = model(**inputs)\n",
    "    answer_start = torch.argmax(outputs[0])  # get the most likely beginning of answer with the argmax of the score\n",
    "    answer_end = torch.argmax(outputs[1]) + 1 \n",
    "\n",
    "    answer = tokenizer.convert_tokens_to_string(tokenizer.convert_ids_to_tokens(inputs['input_ids'][0][answer_start:answer_end]))\n",
    "\n",
    "    return answer"
   ]
  },
  {
   "cell_type": "code",
   "execution_count": 108,
   "id": "747993e1",
   "metadata": {},
   "outputs": [],
   "source": [
    "#normalizing text \n",
    "\n",
    "def normalize_text(s):\n",
    "    \"\"\"Removing articles and punctuation, and standardizing whitespace are all typical text processing steps.\"\"\"\n",
    "    import string, re\n",
    "\n",
    "    def remove_articles(text):\n",
    "        regex = re.compile(r\"\\b(a|an|the)\\b\", re.UNICODE)\n",
    "        return re.sub(regex, \" \", text)\n",
    "\n",
    "    def white_space_fix(text):\n",
    "        return \" \".join(text.split())\n",
    "\n",
    "    def remove_punc(text):\n",
    "        exclude = set(string.punctuation)\n",
    "        return \"\".join(ch for ch in text if ch not in exclude)\n",
    "\n",
    "    def lower(text):\n",
    "        return text.lower()\n",
    "\n",
    "    return white_space_fix(remove_articles(remove_punc(lower(s))))"
   ]
  },
  {
   "cell_type": "code",
   "execution_count": 109,
   "id": "c6243fb0",
   "metadata": {},
   "outputs": [],
   "source": [
    "#exact score\n",
    "\n",
    "def compute_exact_match(prediction, truth):\n",
    "    return int(normalize_text(prediction) == normalize_text(truth))"
   ]
  },
  {
   "cell_type": "code",
   "execution_count": 110,
   "id": "2410e9eb",
   "metadata": {},
   "outputs": [],
   "source": [
    "#f1 score\n",
    "\n",
    "def compute_f1(prediction, truth):\n",
    "    pred_tokens = normalize_text(prediction).split()\n",
    "    truth_tokens = normalize_text(truth).split()\n",
    "    \n",
    "    # if either the prediction or the truth is no-answer then f1 = 1 if they agree, 0 otherwise\n",
    "    if len(pred_tokens) == 0 or len(truth_tokens) == 0:\n",
    "        return int(pred_tokens == truth_tokens)\n",
    "    \n",
    "    common_tokens = set(pred_tokens) & set(truth_tokens)\n",
    "    \n",
    "    # if there are no common tokens then f1 = 0\n",
    "    if len(common_tokens) == 0:\n",
    "        return 0\n",
    "    \n",
    "    prec = len(common_tokens) / len(pred_tokens)\n",
    "    rec = len(common_tokens) / len(truth_tokens)\n",
    "    \n",
    "    return 2 * (prec * rec) / (prec + rec)"
   ]
  },
  {
   "cell_type": "code",
   "execution_count": 111,
   "id": "edc21e66",
   "metadata": {},
   "outputs": [],
   "source": [
    "def get_gold_answers(example):\n",
    "    \"\"\"helper function that retrieves all possible true answers from a squad2.0 example\"\"\"\n",
    "    \n",
    "    gold_answers = [answer[\"text\"] for answer in example.answers if answer[\"text\"]]\n",
    "\n",
    "    # if gold_answers doesn't exist it's because this is a negative example - \n",
    "    # the only correct answer is an empty string\n",
    "    if not gold_answers:\n",
    "        gold_answers = [\"\"]\n",
    "        \n",
    "    return gold_answers"
   ]
  },
  {
   "cell_type": "code",
   "execution_count": 112,
   "id": "84df11bb",
   "metadata": {},
   "outputs": [
    {
     "name": "stdout",
     "output_type": "stream",
     "text": [
      "Question: Where on Earth is free oxygen found?\n",
      "Prediction: water bodies\n",
      "True Answers: ['water', \"in solution in the world's water bodies\", \"the world's water bodies\"]\n",
      "EM: 0 \t F1: 0.8\n"
     ]
    }
   ],
   "source": [
    "#get answer and score\n",
    "\n",
    "prediction = get_prediction(answer_qids[1300])\n",
    "example = examples[qid_to_example_index[answer_qids[1300]]]\n",
    "\n",
    "gold_answers = get_gold_answers(example)\n",
    "\n",
    "em_score = max((compute_exact_match(prediction, answer)) for answer in gold_answers)\n",
    "f1_score = max((compute_f1(prediction, answer)) for answer in gold_answers)\n",
    "\n",
    "print(f\"Question: {example.question_text}\")\n",
    "print(f\"Prediction: {prediction}\")\n",
    "print(f\"True Answers: {gold_answers}\")\n",
    "print(f\"EM: {em_score} \\t F1: {f1_score}\")"
   ]
  },
  {
   "cell_type": "code",
   "execution_count": 113,
   "id": "948a45a7",
   "metadata": {},
   "outputs": [
    {
     "name": "stdout",
     "output_type": "stream",
     "text": [
      "Question: What happened 3.7-2 billion years ago?\n",
      "Prediction: free oxygen began to outgas from the oceans\n",
      "True Answers: ['']\n",
      "EM: 0 \t F1: 0\n"
     ]
    }
   ],
   "source": [
    "#get answer and score\n",
    "\n",
    "prediction = get_prediction(no_answer_qids[1254])\n",
    "example = examples[qid_to_example_index[no_answer_qids[1254]]]\n",
    "\n",
    "gold_answers = get_gold_answers(example)\n",
    "\n",
    "em_score = max((compute_exact_match(prediction, answer)) for answer in gold_answers)\n",
    "f1_score = max((compute_f1(prediction, answer)) for answer in gold_answers)\n",
    "\n",
    "print(f\"Question: {example.question_text}\")\n",
    "print(f\"Prediction: {prediction}\")\n",
    "print(f\"True Answers: {gold_answers}\")\n",
    "print(f\"EM: {em_score} \\t F1: {f1_score}\")"
   ]
  }
 ],
 "metadata": {
  "kernelspec": {
   "display_name": "Python 3",
   "language": "python",
   "name": "python3"
  },
  "language_info": {
   "codemirror_mode": {
    "name": "ipython",
    "version": 3
   },
   "file_extension": ".py",
   "mimetype": "text/x-python",
   "name": "python",
   "nbconvert_exporter": "python",
   "pygments_lexer": "ipython3",
   "version": "3.8.8"
  }
 },
 "nbformat": 4,
 "nbformat_minor": 5
}
