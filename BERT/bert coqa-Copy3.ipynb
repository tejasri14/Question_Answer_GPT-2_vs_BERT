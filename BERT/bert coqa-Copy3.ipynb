{
 "cells": [
  {
   "cell_type": "markdown",
   "id": "a6f8c440",
   "metadata": {},
   "source": [
    "# Calculate Perplexity"
   ]
  },
  {
   "cell_type": "code",
   "execution_count": 201,
   "id": "703af368",
   "metadata": {},
   "outputs": [
    {
     "name": "stderr",
     "output_type": "stream",
     "text": [
      "Some weights of the model checkpoint at bert-large-uncased-whole-word-masking-finetuned-squad were not used when initializing BertForMaskedLM: ['qa_outputs.weight', 'qa_outputs.bias']\n",
      "- This IS expected if you are initializing BertForMaskedLM from the checkpoint of a model trained on another task or with another architecture (e.g. initializing a BertForSequenceClassification model from a BertForPreTraining model).\n",
      "- This IS NOT expected if you are initializing BertForMaskedLM from the checkpoint of a model that you expect to be exactly identical (initializing a BertForSequenceClassification model from a BertForSequenceClassification model).\n",
      "Some weights of BertForMaskedLM were not initialized from the model checkpoint at bert-large-uncased-whole-word-masking-finetuned-squad and are newly initialized: ['cls.predictions.bias', 'cls.predictions.decoder.weight', 'cls.predictions.transform.dense.weight', 'cls.predictions.transform.LayerNorm.weight', 'cls.predictions.transform.dense.bias', 'cls.predictions.transform.LayerNorm.bias']\n",
      "You should probably TRAIN this model on a down-stream task to be able to use it for predictions and inference.\n"
     ]
    },
    {
     "name": "stdout",
     "output_type": "stream",
     "text": [
      "[array([[[1.3098562 , 0.15506995, 2.2620673 , ..., 0.34343904,\n",
      "         0.1772946 , 2.5396035 ],\n",
      "        [1.1148815 , 0.7967433 , 6.811595  , ..., 7.1319623 ,\n",
      "         2.7787044 , 2.8363955 ],\n",
      "        [0.8740575 , 0.4047473 , 2.9068573 , ..., 0.86913866,\n",
      "         0.48746732, 3.9091747 ],\n",
      "        ...,\n",
      "        [1.4510698 , 0.4080547 , 4.2286735 , ..., 1.1799343 ,\n",
      "         0.91149265, 4.4654126 ],\n",
      "        [1.2591677 , 0.7515034 , 5.7138896 , ..., 1.413759  ,\n",
      "         1.7665298 , 6.459934  ],\n",
      "        [1.3097657 , 0.1551158 , 2.2616856 , ..., 0.34343818,\n",
      "         0.17733487, 2.5396886 ]]], dtype=float32)]\n"
     ]
    }
   ],
   "source": [
    "import sys\n",
    "import numpy as np\n",
    " \n",
    "import torch\n",
    "from transformers import BertTokenizer,BertForMaskedLM\n",
    "# Load pre-trained model (weights)\n",
    "with torch.no_grad():\n",
    "    model = BertForMaskedLM.from_pretrained('bert-large-uncased-whole-word-masking-finetuned-squad')\n",
    "    model.eval()\n",
    "    # Load pre-trained model tokenizer (vocabulary)\n",
    "    tokenizer = BertTokenizer.from_pretrained('bert-large-uncased-whole-word-masking-finetuned-squad')\n",
    "def score(sentence):\n",
    "    tokenize_input = tokenizer.tokenize(sentence)\n",
    "    tokenize_input = [\"[CLS]\"]+tokenize_input+[\"[SEP]\"]\n",
    "    tensor_input = torch.tensor([tokenizer.convert_tokens_to_ids(tokenize_input)])\n",
    "    with torch.no_grad():\n",
    "        loss=model(tensor_input)[0]\n",
    "    return np.exp(loss.detach().numpy())\n",
    " \n",
    "a=['Identify and neutralize foreign objects']\n",
    "print([score(i) for i in a])"
   ]
  }
 ],
 "metadata": {
  "kernelspec": {
   "display_name": "Python 3",
   "language": "python",
   "name": "python3"
  },
  "language_info": {
   "codemirror_mode": {
    "name": "ipython",
    "version": 3
   },
   "file_extension": ".py",
   "mimetype": "text/x-python",
   "name": "python",
   "nbconvert_exporter": "python",
   "pygments_lexer": "ipython3",
   "version": "3.8.8"
  }
 },
 "nbformat": 4,
 "nbformat_minor": 5
}
